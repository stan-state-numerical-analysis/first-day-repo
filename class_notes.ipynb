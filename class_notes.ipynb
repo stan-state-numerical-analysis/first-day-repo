{
 "cells": [
  {
   "cell_type": "markdown",
   "metadata": {},
   "source": [
    "# What is numerical analysis?"
   ]
  },
  {
   "cell_type": "markdown",
   "metadata": {},
   "source": [
    "## Symbolic vs. numerical problem-solving\n",
    "\n",
    "In your undergraduate math journey thus far, you've been immersed in the realm of **symbolic problem solving**. This approach goes by many other names, such as **analytic** problem solving, and it involves manipulating mathematical expressions algebraically to obtain exact solutions, yielding elegant and precise results rooted in pure theory."
   ]
  },
  {
   "cell_type": "markdown",
   "metadata": {},
   "source": [
    "### An example of symbolic problem-solving\n",
    "\n",
    "For example, if you were asked to find all solutions to the equation below, you may do this:\n",
    "\n",
    "$$\\begin{align*} x^2 - 5x + 6 &= 0\\\\ (x-2)(x-3) &= 0\\\\ x &= 2, 3\\end{align*}$$\n",
    "\n",
    "However, the world often presents us with intricate challenges that defy neat symbolic solutions."
   ]
  },
  {
   "cell_type": "markdown",
   "metadata": {},
   "source": [
    "For example, if a cost function for the company you're working for is a degree-9 polynomial, it is possible that the Calculus will lead you to needing to find solutions to an equation like this:\n",
    "\n",
    "$x^8-x^7+x^2-x+15 = 0$\n",
    "\n",
    "If you can solve this symbolically then all power to you! If you're like me and have no idea how one would go about doing that, I welcome you with open arms to the domain of **numerical methods**. In this realm, equations are embraced in their numerical form, and solutions are *approximated* using advanced algorithms and computer tools. And yes, your manager would rather you get them an approximate solution fast than to spend the rest of your career at that company attempting to find exact solutions symbolically."
   ]
  },
  {
   "cell_type": "markdown",
   "metadata": {},
   "source": [
    "### An example of a numerical problem-solving\n",
    "\n",
    "Let's see if our brains already use numerical methods without us realizing it...\n",
    "\n",
    "> Let's assume that you know 213444 is a perfect square. If all you had was a piece of paper and a pencil, how would you go about finding its square root?"
   ]
  },
  {
   "cell_type": "markdown",
   "metadata": {},
   "source": [
    "![winnie_numerical_meme.jpg](https://i.imgflip.com/7w3ow6.jpg)\n",
    "\n",
    "We should highlight three key points about the (numerical) process we just used:\n",
    "\n",
    "* The process uses a series of **steps** that are based on the step(s) that came before it.\n",
    "\n",
    "* At each step, we figure out how close we are to the correct answer by calculating a value that we use to measure our **error**.\n",
    "\n",
    "* We could mathematically prove that the **iterative process** we were using would eventually **end** (in a finite number of steps) at the correct answer.\n",
    "\n",
    "These three points highlight three main characteristics of numerical methods we will study in this course.\n",
    "\n",
    "1. We will learn about (and be able to code) the **iterative process** describing the numerical method. This iterative process consists of a carefully designed sequence of steps, each building upon the results of the preceding step, guiding us closer to an accurate solution.\n",
    "\n",
    "1. We will delve into the concept of **error analysis**, a crucial aspect of numerical methods. At every step, we will quantify the discrepancy between our current approximation and the true solution using a measure of error. This provides us with insight into the accuracy of our results and guides us in refining our approach.\n",
    "\n",
    "1. We will explore the fascinating realm of mathematical **convergence**. This is where theoretical mathematics comes into play. Through rigorous mathematical reasoning, we will demonstrate that the iterative process we employ is not just a hopeful endeavor but a mathematically proven path towards the ultimate goal – reaching (within any $\\epsilon > 0$ of) the precise answer in a finite number of steps.\n",
    "\n",
    "By mastering these fundamental principles and techniques, you will unlock the ability to wield numerical methods as powerful tools, extending your problem-solving capabilities beyond symbolic limitations and into the realm of numerical precision and computational efficacy."
   ]
  },
  {
   "cell_type": "markdown",
   "metadata": {},
   "source": [
    "# Course Information\n",
    "\n",
    "This section contains basic course information including content modules to be covered and types of assignments."
   ]
  },
  {
   "cell_type": "markdown",
   "metadata": {},
   "source": [
    "## **MATH 4330: Numerical Analysis**\n",
    "\n",
    "Section 001\n",
    "\n",
    "Class Number 41462\n",
    "\n",
    "**Course meetings**: Science 1 Building Room 127, MWF 12:00 - 12:50pm\n",
    "\n",
    "**Instructor**: Dr. Jessica De Silva\n",
    "\n",
    "**Course materials will be posted to [Canvas](https://canvas.csutan.edu).**"
   ]
  },
  {
   "cell_type": "markdown",
   "metadata": {},
   "source": [
    "### **Office Hours**\n",
    "\n",
    "Science 1 Building Room 115\n",
    "\n",
    "* Mondays 2:00 - 2:50pm\n",
    "\n",
    "* Wednesdays 9:00 - 9:50am\n",
    "\n",
    "* Fridays 11:00 - 11:50am\n",
    "\n",
    "*Or email Dr. De Silva at jdesilva1@csustan.edu to make an appointment.*"
   ]
  },
  {
   "cell_type": "markdown",
   "metadata": {},
   "source": [
    "### **Prerequisites**\n",
    "\n",
    "C- or better in each of the courses...\n",
    "\n",
    "* A first semester course in Computer Programming\n",
    "\n",
    "* Multivariate Calculus\n",
    "\n",
    "* Linear Algebra\n",
    "\n",
    "* Introduction to Differential Equations"
   ]
  },
  {
   "cell_type": "markdown",
   "metadata": {},
   "source": [
    "### **Textbook & Materials**\n",
    "\n",
    "**Textbook**: Free online textbook resources are linked in the syllabus on Canvas.\n",
    "\n",
    "**Required materials**: A laptop or tablet (preferrably with a physical keyboard), a camera with a smartphone, and a stable internet connection. The laptop/tablet should be with you during all course meetings."
   ]
  },
  {
   "cell_type": "markdown",
   "metadata": {},
   "source": [
    "## Graded Components\n",
    "\n",
    "There are four graded components in this course:"
   ]
  },
  {
   "cell_type": "markdown",
   "metadata": {},
   "source": [
    "* **GitHub Classroom Repositories (45%).** Throughout the semester, you will submit nine assignments via GitHub Classroom repositories. Each submission should include a Jupyter notebook containing your in-class notes and homework in the form of 3-4 task .py files that you need to complete. Upon submission, your assignment will undergo basic automated testing to give you an initial indication of whether you've implemented the tasks correctly. However, your final grade will be determined after Dr.\\ De Silva manually reviews your work, ensuring accuracy and completeness."
   ]
  },
  {
   "cell_type": "markdown",
   "metadata": {},
   "source": [
    "* **Module Milestones (30%).** There are three module milestone assignments in this course. The first milestone requires you to complete the Introduction to Programming with Python learning path in CodeSignal by a specified deadline. For the second and third milestones, you will select a new method from the current module, create a GitHub repository, and include conceptual descriptions, the method’s code, and a short video demonstration showing how your code works. These assignments will help reinforce your understanding and allow you to showcase your skills."
   ]
  },
  {
   "cell_type": "markdown",
   "metadata": {},
   "source": [
    "* **Worksheets (20%).** Throughout the course, you will complete worksheets that are typically started in class. These worksheets will focus on reviewing prerequisite concepts for certain numerical methods and practicing the implementation of these methods by hand. They are designed to reinforce your understanding of the foundational material necessary for mastering the numerical methods covered in the course."
   ]
  },
  {
   "cell_type": "markdown",
   "metadata": {},
   "source": [
    "* **Participation and Attendance (5%).** Daily course attendance will be tracked on Canvas."
   ]
  }
 ],
 "metadata": {
  "language_info": {
   "name": "python"
  }
 },
 "nbformat": 4,
 "nbformat_minor": 2
}
