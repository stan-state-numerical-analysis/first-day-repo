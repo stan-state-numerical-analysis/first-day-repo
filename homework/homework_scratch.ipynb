{
 "cells": [
  {
   "cell_type": "markdown",
   "metadata": {},
   "source": [
    "# Task 1"
   ]
  },
  {
   "cell_type": "code",
   "execution_count": null,
   "metadata": {},
   "outputs": [],
   "source": [
    "# Task: Learn How to Make and Save Changes to Files on GitHub\n",
    "\n",
    "# 1. Uncomment lines 5 and 6 below by deleting the hashtags on the left.\n",
    "\n",
    "# def f(x):\n",
    "#   return x + 2 "
   ]
  }
 ],
 "metadata": {
  "language_info": {
   "name": "python"
  }
 },
 "nbformat": 4,
 "nbformat_minor": 2
}
